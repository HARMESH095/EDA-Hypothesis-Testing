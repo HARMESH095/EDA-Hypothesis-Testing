{
 "cells": [
  {
   "cell_type": "markdown",
   "metadata": {},
   "source": [
    "Exploratory data analysis : It is used for exploring data for insights and patterns \\n\n",
    "Inferential statistics : It is used for making inferences about the population using the sample data"
   ]
  },
  {
   "cell_type": "markdown",
   "metadata": {},
   "source": [
    "Using sample statistics we need to make claims for entire population. These type of claim is called Hypothesis.\n"
   ]
  },
  {
   "cell_type": "markdown",
   "metadata": {},
   "source": [
    "Inferential statistics used to find some population parameters (mostly population mean) when u have nop initial number to start with. So, you start with the sampling activity and find out sample mean. Then , you estimate the population mean from the sample mean using confidence intreval."
   ]
  },
  {
   "cell_type": "markdown",
   "metadata": {},
   "source": [
    "Hypothesis Testing is used to confirm your conclusion (or hypothesis) about the population parameter (which you know from eda or intuition). Through Hypothesis testing , you can determine whether there is enough evidence to conclude that the hypothessi abpout the population parameter is true or not."
   ]
  },
  {
   "cell_type": "markdown",
   "metadata": {},
   "source": [
    "the two hypothesis which is stated , exactly one hypothesis must be true , Hypothesis oppose each other."
   ]
  },
  {
   "cell_type": "markdown",
   "metadata": {},
   "source": [
    "1Null Hypothesis : prevailing belief about the population, assumes the state of quo is true(already existin gsituation)\n",
    "Alternative /Research Hypothesis.-claim opposes the null hypothesis (thi sis the one you are trying tp prove)"
   ]
  },
  {
   "cell_type": "markdown",
   "metadata": {},
   "source": [
    "Example : Average commute tome of an employee = 36.5 mins\n",
    "Null hypothesis: average commute time = 36.5 mins\n",
    "Alternative Hypothesis : Average commute time != 36.5 moins\n",
    "\n",
    "Conflictin hypothesis in criminal trial example:\n",
    "Null hypothesis - Defendent is innocent\n",
    "ALternative hypothesis - Defendent is not innocent\n",
    "\n",
    "outcomes 1) Rejection of Null Hypothesis - Guilty\n",
    "2) There is no evidence to prove alternative hypothesis (failed to reject null hypothesis  )\n",
    "Failure to reject null hypothesis != Accept null hypothesis\n",
    "\n",
    "two non-overlapping sets-"
   ]
  },
  {
   "cell_type": "markdown",
   "metadata": {},
   "source": [
    "Sales of airconditioner.\n",
    "Using avaerage sales per store during summer data to find out how many ac should be shipped to each store. Weather forecast said in next summer there is intensive heat wave\n",
    "\n",
    "population mean = 350\n",
    "Ho: u = 350 units\n",
    "status quop is true\n",
    "Sales per store = 350\n",
    "\n",
    "h1: u = !=350\n",
    "\n"
   ]
  },
  {
   "cell_type": "markdown",
   "metadata": {},
   "source": [
    "The null hypothesis always has the following signs : = OR <= OR >=\n",
    "The alternate hypothesis always has the following signs : != or > or <"
   ]
  },
  {
   "cell_type": "markdown",
   "metadata": {},
   "source": [
    "Situation 1: Flipkart claimed that its total valuation in December 2016 was at least $14 billion. Here, the claim contains ≥ sign ( i.e., the at least sign), so the null hypothesis is the original claim.\n",
    "\n",
    "Ho : u >= 14 billion\n",
    "H1 : u < 14 billion"
   ]
  },
  {
   "cell_type": "markdown",
   "metadata": {},
   "source": [
    "Exception problem :\n",
    "Null and Alternate Hypotheses\n",
    "Goodyear claims that each of its tyres can travel more than 7500 miles on average before they need any replacement.\n",
    "\n",
    "Assuming that the average travel distance is given by μ, what would be the null and the alternate hypothesis in this case?\n",
    "\n",
    "H₀: μ  ≤  7500 miles and H₁: μ > 7500 miles\n",
    "\n",
    "✓ Correct\n",
    "Feedback:\n",
    "The null hypothesis is always formulated by either = or ≤ or ≥ whereas the alternate hypothesis is formulated by ≠ or > or <. If you check the claim statement, it has the > sign (i.e. μ> 7500 miles). Hence the null hypothesis would be the complement of the claim statement i.e. μ ≤ 7500 miles, and the alternate hypothesis would be the claim statement itself or μ > 7500 miles."
   ]
  },
  {
   "cell_type": "markdown",
   "metadata": {},
   "source": [
    "Before creatin gmoels hypothesis is iomportant"
   ]
  },
  {
   "cell_type": "markdown",
   "metadata": {},
   "source": [
    "Making a decision to either reject or fail to reject null hypothesis"
   ]
  },
  {
   "cell_type": "markdown",
   "metadata": {},
   "source": [
    "Apurva's claim : Average score in archery = 70\n",
    "\n",
    "over 5 games :\n",
    "avergae score = 20 --> Less likely to believe\n",
    "average score = 45 --> likely to believe\n",
    "\n",
    "Ho: u = 70\n",
    "H1: u != 70\n",
    "\n",
    "x BAR = 50\n",
    "POPULATION MEAN = 70\n",
    "\n",
    "usually she can score 70 but now in sample its less\n",
    "or usually its not 70\n",
    "\n",
    "critical point \n",
    "lower critical point below 70 \n",
    "upper cricitical point above 70\n",
    "\n",
    "region outsidde lcv and ucv is crtical region\n",
    "\n",
    "if sample mean is smaller than or greater than lcv or ucv  (reject null hypothesis)"
   ]
  },
  {
   "cell_type": "markdown",
   "metadata": {},
   "source": [
    "will there will be critical region i botjh sides always? No\n",
    "depends on the nature of alternative hypothesis\n",
    "\n",
    "non directional and directional\n",
    "\n",
    "non directional hypothesis - two tailed test\n",
    "example \n",
    "no specific direction\n",
    "paracetamol tablet , if it s is greater or smaller than particular value then it is dangerous\n",
    "Ho: u = 70\n",
    "H1: u != 70\n",
    "\n",
    "directional hypothesisv - one tailed test\n",
    "Ho: u >= 70\n",
    "H1: u < 70\n",
    "\n",
    "if it the altenative is less than 70 then tje critical range will be below 70 (lower tailed test)\n",
    "\n",
    "if H1 u > 70\n",
    "then critical refion will be above 70 \n",
    "\n"
   ]
  },
  {
   "cell_type": "markdown",
   "metadata": {},
   "source": [
    "You can tell the type of the test and the position of the critical region on the basis of the sign in the alternate hypothesis.\n",
    "\n",
    "      \n",
    "\n",
    "       ≠ in H₁    →   Two-tailed test        →     Rejection region on both sides of the distribution\n",
    "\n",
    "       < in H₁    →   Lower-tailed test     →     Rejection region on left side of the distribution\n",
    "\n",
    "       > in H₁    →   Upper-tailed test     →     Rejection region on right side of the distribution"
   ]
  },
  {
   "cell_type": "markdown",
   "metadata": {},
   "source": [
    "Null and Alternate Hypotheses\n",
    "The average commute time for an UpGrad employee to and from office is at least 35 minutes.\n",
    "\n",
    "If this hypothesis has to be tested, select the type of the test and the location of the critical region.\n",
    "\n",
    "Lower-tailed test, with the rejection region on the left side\n",
    "✓ Correct\n",
    "Feedback:\n",
    "For this situation, the hypotheses would be formulated as H₀: μ ≥ 35 minutes and H₁: μ < 35 minutes. As < sign is used in alternate hypothesis, it would be a lower-tailed test and the rejection region would be on the left side of the distribution."
   ]
  },
  {
   "cell_type": "markdown",
   "metadata": {},
   "source": [
    "Null and Alternate Hypotheses\n",
    "A researcher claims that the weight of an average male Bengal tiger is less than 220 KG.\n",
    "Ho: u >= 220 H1: u < 220   Test : Lower-tailed test"
   ]
  },
  {
   "cell_type": "markdown",
   "metadata": {},
   "source": []
  },
  {
   "cell_type": "markdown",
   "metadata": {},
   "source": [
    "Critical value method: (How to calculate)\n",
    "\n",
    "standard deviation is 90\n",
    "Ho : u = 350\n",
    "H1 : u != 350\n",
    "sample = 36 cases\n",
    "standard deviation of a distribtuion of sample means = population standard deviation / square root of the sample size = \n",
    "=90 / root(36) = 15\n",
    "\n",
    "sigma standard deviation, u mean\n",
    "\n",
    "alpha = 0.05 (5%)\n",
    "take 5 % if not specified in question\n",
    "\n",
    "Z score( Z critical)\n",
    "0.025 in lcv , 0.025 ucv \n",
    "cumulative probablity of ucs if significane level for an upper tailed test is 3 %?\n",
    "then 1-0.03 = 0.97\n",
    "\n",
    "take table check the value and find the column or row heading;\n",
    "cumulative probablity of ucv = 1-0.975 = 0.025\n",
    "Zc = +1.96 (ucv)\n",
    "Zc = -1.96 (lcv)\n",
    "\n",
    "Critical value = u + (Zc * sigma(sample))\n",
    "\n",
    "UCV = 350 + (1.96 * 15) = 379.4\n",
    "LCV = 350 - (1.96 * 15) = 320.6\n",
    "\n",
    "\n",
    "LCV|320.6    .. .. .. . . . . . . . .  379.6|UCV"
   ]
  },
  {
   "cell_type": "markdown",
   "metadata": {},
   "source": [
    "After formulating the hypothesis, the steps you have to follow to make a decision using the critical value method are as follows:\n",
    "\n",
    "Calculate the value of Zċ from the given value of α (significance level). Take it as 5% if not specified in the problem.\n",
    "\n",
    "Calculate the critical values (UCV and LCV) from the value of Zċ.\n",
    "\n",
    "Decide on the basis of the value of the sample mean x with respect to the critical values (UCV AND LCV)."
   ]
  },
  {
   "cell_type": "markdown",
   "metadata": {},
   "source": [
    "Average ac sales per month is Atmost 350\n",
    "Ho: u <=350\n",
    "H1: u > 350\n",
    "one tailed test\n",
    "right tail;ed test\n"
   ]
  },
  {
   "cell_type": "markdown",
   "metadata": {},
   "source": [
    "Ho: Average lead content <= 2.5ppm\n",
    "H1: Average lead content  > 2.5ppm\n",
    "Significance level = 3 %\n",
    "Cumulative Probab;ity for Critical Point = 0.97\n",
    "Zc = 1.88\n",
    "Crtical value = 2.61ppm\n",
    "Sample mean(x) = 2.6\n",
    "fail to reject null hypothesis"
   ]
  },
  {
   "cell_type": "markdown",
   "metadata": {},
   "source": [
    "The null and alternative hypothesis is abpoout population parameters"
   ]
  },
  {
   "cell_type": "markdown",
   "metadata": {},
   "source": [
    "In the Critical value method the Z score which is Zc is calculated for critical poitns\n",
    "In the p-value method the Z score is calculated for the sample mean ."
   ]
  },
  {
   "cell_type": "markdown",
   "metadata": {},
   "source": [
    "by using leyman's method we can say if the p value is higher than we fail to reject the null hypothesis, "
   ]
  }
 ],
 "metadata": {
  "kernelspec": {
   "display_name": "Python 3",
   "language": "python",
   "name": "python3"
  },
  "language_info": {
   "codemirror_mode": {
    "name": "ipython",
    "version": 3
   },
   "file_extension": ".py",
   "mimetype": "text/x-python",
   "name": "python",
   "nbconvert_exporter": "python",
   "pygments_lexer": "ipython3",
   "version": "3.12.7"
  }
 },
 "nbformat": 4,
 "nbformat_minor": 2
}
